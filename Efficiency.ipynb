{
 "metadata": {
  "name": "",
  "signature": "sha256:8ce9d47f370e166fcc1b5f838a48d62f005961e6d7b5cdd7d2d3f0709174ed08"
 },
 "nbformat": 3,
 "nbformat_minor": 0,
 "worksheets": [
  {
   "cells": [
    {
     "cell_type": "markdown",
     "metadata": {},
     "source": [
      "# Efficient scientific programming\n",
      "This notebook is for documenting the most efficient ways of performing various heavy operations, specifically using the scientific Python libraries available."
     ]
    },
    {
     "cell_type": "code",
     "collapsed": false,
     "input": [
      "%pylab inline\n",
      "import sys\n",
      "import scipy.spatial.distance"
     ],
     "language": "python",
     "metadata": {},
     "outputs": [
      {
       "output_type": "stream",
       "stream": "stdout",
       "text": [
        "Populating the interactive namespace from numpy and matplotlib\n"
       ]
      }
     ],
     "prompt_number": 57
    },
    {
     "cell_type": "markdown",
     "metadata": {},
     "source": [
      "## Nearest cosine neighbor calculation"
     ]
    },
    {
     "cell_type": "code",
     "collapsed": false,
     "input": [
      "def cos_loop_spatial(matrix, vector):\n",
      "    \"\"\"\n",
      "    Calculating pairwise cosine distance using a common for loop with the numpy cosine function.\n",
      "    \"\"\"\n",
      "    neighbors = []\n",
      "    for row in range(matrix.shape[0]):\n",
      "        neighbors.append(scipy.spatial.distance.cosine(vector, matrix[row,:]))\n",
      "    return neighbors\n",
      "\n",
      "def cos_loop(matrix, vector):\n",
      "    \"\"\"\n",
      "    Calculating pairwise cosine distance using a common for loop with manually calculated cosine value.\n",
      "    \"\"\"\n",
      "    neighbors = []\n",
      "    for row in range(matrix.shape[0]):\n",
      "        vector_norm = np.linalg.norm(vector)\n",
      "        row_norm = np.linalg.norm(matrix[row,:])\n",
      "        cos_val = vector.dot(matrix[row,:]) / (vector_norm * row_norm)\n",
      "        neighbors.append(cos_val)\n",
      "    return neighbors\n",
      "\n",
      "def cos_matrix_multiplication(matrix, vector):\n",
      "    \"\"\"\n",
      "    Calculating pairwise cosine distance using matrix vector multiplication.\n",
      "    \"\"\"\n",
      "    dotted = matrix.dot(vector)\n",
      "    matrix_norms = np.linalg.norm(matrix, axis=1)\n",
      "    vector_norm = np.linalg.norm(vector)\n",
      "    matrix_vector_norms = np.multiply(matrix_norms, vector_norm)\n",
      "    neighbors = np.divide(dotted, matrix_vector_norms)\n",
      "    return neighbors\n",
      "\n",
      "\n",
      "# Assert all functions are returning the same results\n",
      "cos_functions = [cos_loop_spatial, cos_loop, cos_matrix_multiplication]\n",
      "\n",
      "mat = np.random.randn(1000,1000)\n",
      "vec = np.random.randn(1000)\n",
      "\n",
      "cos_loop_res= cos_loop(mat, vec)\n",
      "cos_matrix_multiplication_res=cos_matrix_multiplication(mat, vec)\n",
      "\n",
      "assert all(np.isclose(cos_loop_res, cos_matrix_multiplication_res))"
     ],
     "language": "python",
     "metadata": {},
     "outputs": [],
     "prompt_number": 59
    },
    {
     "cell_type": "markdown",
     "metadata": {},
     "source": [
      "### Performance results"
     ]
    },
    {
     "cell_type": "code",
     "collapsed": false,
     "input": [
      "# Test performance and plot the best results of each function\n",
      "mat = np.random.randn(1000,1000)\n",
      "vec = np.random.randn(1000)\n",
      "cos_performance = {}\n",
      "for func in cos_functions:\n",
      "    func_performance = %timeit -o func(mat, vec)\n",
      "    cos_performance[func.__name__] = func_performance.best\n",
      "\n",
      "pd.Series(cos_performance).plot(kind='bar')"
     ],
     "language": "python",
     "metadata": {},
     "outputs": [
      {
       "output_type": "stream",
       "stream": "stdout",
       "text": [
        "10 loops, best of 3: 35.5 ms per loop\n",
        "10 loops, best of 3: 29.1 ms per loop"
       ]
      },
      {
       "output_type": "stream",
       "stream": "stdout",
       "text": [
        "\n",
        "100 loops, best of 3: 3.13 ms per loop"
       ]
      },
      {
       "output_type": "stream",
       "stream": "stdout",
       "text": [
        "\n"
       ]
      },
      {
       "metadata": {},
       "output_type": "pyout",
       "prompt_number": 60,
       "text": [
        "<matplotlib.axes.AxesSubplot at 0x10ab998d0>"
       ]
      },
      {
       "metadata": {},
       "output_type": "display_data",
       "png": "[encoded data removed]",
       "text": [
        "<matplotlib.figure.Figure at 0x10aa35590>"
       ]
      }
     ],
     "prompt_number": 60
    }
   ],
   "metadata": {}
  }
 ]
}