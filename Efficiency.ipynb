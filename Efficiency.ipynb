{
 "metadata": {
  "name": "",
  "signature": "sha256:7d05a202e5672cd9c4664e83b2f7b61dc4de39aafc6ca110cda24cdb5ab4d0a0"
 },
 "nbformat": 3,
 "nbformat_minor": 0,
 "worksheets": [
  {
   "cells": [
    {
     "cell_type": "markdown",
     "metadata": {},
     "source": [
      "# Efficient scientific programming\n",
      "This notebook is for documenting the most efficient ways of performing various heavy operations, specifically using the scientific Python libraries available."
     ]
    },
    {
     "cell_type": "code",
     "collapsed": false,
     "input": [
      "%pylab inline\n",
      "import sys\n",
      "import scipy.spatial.distance\n",
      "import scipy as sp"
     ],
     "language": "python",
     "metadata": {},
     "outputs": [
      {
       "output_type": "stream",
       "stream": "stdout",
       "text": [
        "Populating the interactive namespace from numpy and matplotlib\n"
       ]
      },
      {
       "output_type": "stream",
       "stream": "stderr",
       "text": [
        "WARNING: pylab import has clobbered these variables: ['mat']\n",
        "`%matplotlib` prevents importing * from pylab and numpy\n"
       ]
      }
     ],
     "prompt_number": 21
    },
    {
     "cell_type": "markdown",
     "metadata": {},
     "source": [
      "## Nearest cosine neighbor calculation (dense matrices)"
     ]
    },
    {
     "cell_type": "code",
     "collapsed": false,
     "input": [
      "def cos_scipy_spatial(matrix, vector):\n",
      "    \"\"\"\n",
      "    Calculating matrix vector cosine distance using the built-in scipy cdist function.\n",
      "    Doesn't work with sparse matrices.\n",
      "    \"\"\"\n",
      "    return scipy.spatial.distance.cdist(matrix, vector[np.newaxis,:], metric='cos')\n",
      "\n",
      "def cos_loop_spatial(matrix, vector):\n",
      "    \"\"\"\n",
      "    Calculating matrix vector cosine distance using a common for loop with the numpy cosine function.\n",
      "    \"\"\"\n",
      "    neighbors = []\n",
      "    for row in range(matrix.shape[0]):\n",
      "        neighbors.append(scipy.spatial.distance.cosine(vector, matrix[row,:]))\n",
      "    return neighbors\n",
      "\n",
      "def cos_loop(matrix, vector):\n",
      "    \"\"\"\n",
      "    Calculating matrix vector cosine distance using a common for loop with manually calculated cosine value.\n",
      "    \"\"\"\n",
      "    neighbors = []\n",
      "    for row in range(matrix.shape[0]):\n",
      "        vector_norm = np.linalg.norm(vector)\n",
      "        row_norm = np.linalg.norm(matrix[row,:])\n",
      "        cos_val = (vector.dot(matrix[row,:]) / (vector_norm * row_norm))\n",
      "        neighbors.append(cos_val)\n",
      "    return neighbors\n",
      "\n",
      "def cos_matrix_multiplication(matrix, vector):\n",
      "    \"\"\"\n",
      "    Calculating matrix vector cosine distance using matrix vector multiplication.\n",
      "    \"\"\"\n",
      "    dotted = matrix.dot(vector)\n",
      "    matrix_norms = np.linalg.norm(matrix, axis=1)\n",
      "    vector_norm = np.linalg.norm(vector)\n",
      "    matrix_vector_norms = np.multiply(matrix_norms, vector_norm)\n",
      "    neighbors = np.divide(dotted, matrix_vector_norms)\n",
      "    return neighbors\n",
      "\n",
      "cos_functions = [cos_scipy_spatial, cos_loop_spatial, cos_loop, cos_matrix_multiplication]"
     ],
     "language": "python",
     "metadata": {},
     "outputs": [],
     "prompt_number": 25
    },
    {
     "cell_type": "markdown",
     "metadata": {},
     "source": [
      "#### Dense matrix performance results"
     ]
    },
    {
     "cell_type": "code",
     "collapsed": false,
     "input": [
      "# Test performance and plot the best results of each function\n",
      "mat = np.random.randn(1000,1000)\n",
      "vec = np.random.randn(1000)\n",
      "cos_performance = {}\n",
      "for func in cos_functions:\n",
      "    func_performance = %timeit -o func(mat, vec)\n",
      "    cos_performance[func.__name__] = func_performance.best"
     ],
     "language": "python",
     "metadata": {},
     "outputs": [
      {
       "output_type": "stream",
       "stream": "stdout",
       "text": [
        "100 loops, best of 3: 4.92 ms per loop\n",
        "10 loops, best of 3: 39.3 ms per loop"
       ]
      },
      {
       "output_type": "stream",
       "stream": "stdout",
       "text": [
        "\n",
        "10 loops, best of 3: 29.6 ms per loop"
       ]
      },
      {
       "output_type": "stream",
       "stream": "stdout",
       "text": [
        "\n",
        "100 loops, best of 3: 4.72 ms per loop"
       ]
      },
      {
       "output_type": "stream",
       "stream": "stdout",
       "text": [
        "\n"
       ]
      }
     ],
     "prompt_number": 48
    },
    {
     "cell_type": "markdown",
     "metadata": {},
     "source": [
      "## Nearest cosine neighbor calculation (sparse matrices)"
     ]
    },
    {
     "cell_type": "code",
     "collapsed": false,
     "input": [
      "spmat = scipy.sparse.rand(10000,10000).tocsr()\n",
      "spvec = scipy.sparse.rand(1,10000).tocsr()"
     ],
     "language": "python",
     "metadata": {},
     "outputs": [],
     "prompt_number": 42
    },
    {
     "cell_type": "code",
     "collapsed": false,
     "input": [
      "def sparse_cos_matrix_multiplication(matrix, vector):\n",
      "    \"\"\"\n",
      "    Calculating matrix vector cosine distance using sparse matrix vector multiplication.\n",
      "    \"\"\"\n",
      "    mat = matrix.tocsr()\n",
      "    vec = vector.tocsr()\n",
      "    dotted = mat.dot(vector.T)\n",
      "    matrix_norms = np.sqrt(mat.multiply(mat).sum(axis=1))\n",
      "    vector_norm = np.sqrt(vec.multiply(vec).sum())\n",
      "    matrix_vector_norms = np.multiply(matrix_norms, vector_norm)\n",
      "    neighbors = dotted.multiply(1/matrix_vector_norms)\n",
      "    return neighbors\n",
      "\n",
      "sparse_cos_res = %timeit -o sparse_cos_matrix_multiplication(spmat, spvec)\n",
      "cos_performance['sparse_cos_matrix_multiplication'] = sparse_cos_res.best"
     ],
     "language": "python",
     "metadata": {},
     "outputs": [
      {
       "output_type": "stream",
       "stream": "stdout",
       "text": [
        "10 loops, best of 3: 19.4 ms per loop\n"
       ]
      }
     ],
     "prompt_number": 52
    },
    {
     "cell_type": "markdown",
     "metadata": {},
     "source": [
      "## Cosine performance results"
     ]
    },
    {
     "cell_type": "code",
     "collapsed": false,
     "input": [
      "pd.Series(cos_performance).plot(kind='bar')"
     ],
     "language": "python",
     "metadata": {},
     "outputs": [
      {
       "metadata": {},
       "output_type": "pyout",
       "prompt_number": 54,
       "text": [
        "<matplotlib.axes.AxesSubplot at 0x10b6bdcd0>"
       ]
      },
      {
       "metadata": {},
       "output_type": "display_data",
       "png": "[encoded data removed]",
       "text": [
        "<matplotlib.figure.Figure at 0x10b6bd450>"
       ]
      }
     ],
     "prompt_number": 54
    },
    {
     "cell_type": "markdown",
     "metadata": {},
     "source": [
      "## Mutual Information weighting"
     ]
    },
    {
     "cell_type": "markdown",
     "metadata": {},
     "source": [
      "Read more: http://en.wikipedia.org/wiki/Pointwise_mutual_information"
     ]
    },
    {
     "cell_type": "code",
     "collapsed": false,
     "input": [
      "def epmi(matrix):\n",
      "    \"\"\"\n",
      "    Exponential pointwise mutual information\n",
      "    \"\"\"\n",
      "    mat = matrix.astype(np.double)\n",
      "    row_sum = np.sum(mat, axis=1)\n",
      "    col_sum = np.sum(mat, axis=0)\n",
      "    total = np.sum(row_sum)\n",
      "    inv_col_sum = np.divide(total, col_sum)\n",
      "    inv_row_sum = np.divide(total, row_sum)\n",
      "    mat = np.divide(mat, total)\n",
      "    mat = np.multiply(mat.T, inv_row_sum).T\n",
      "    mat = np.multiply(mat, inv_col_sum)\n",
      "    return mat\n",
      "\n",
      "\n",
      "def pmi(matrix):\n",
      "    \"\"\"\n",
      "    Pointwise mutual information\n",
      "    \"\"\"\n",
      "    mat = np.log(epmi(matrix))\n",
      "    return mat\n",
      "\n",
      "\n",
      "def ppmi(matrix):\n",
      "    \"\"\"\n",
      "    Positive pointwise mutual information\n",
      "    \"\"\"\n",
      "    mat = pmi(matrix)\n",
      "    return mat[mat > 0]\n",
      "\n",
      "\n",
      "def npmi(matrix):\n",
      "    \"\"\"\n",
      "    Normalized pointwise mutual information\n",
      "    \"\"\"\n",
      "    mat = matrix.astype(np.double)\n",
      "    total = mat.sum().sum()\n",
      "    log_probs = -np.log(np.divide(mat, total))\n",
      "    return np.divide(pmi(matrix),log_probs)\n",
      "\n",
      "def pnpmi(matrix):\n",
      "    \"\"\"\n",
      "    Positive normalized pointwise mutual information\n",
      "    \"\"\"\n",
      "    mat = npmi(matrix)\n",
      "    return mat[mat > 0]\n",
      "\n",
      "pmi_functions = [epmi, pmi, ppmi, npmi, pnpmi]"
     ],
     "language": "python",
     "metadata": {},
     "outputs": [],
     "prompt_number": 5
    },
    {
     "cell_type": "code",
     "collapsed": false,
     "input": [
      "# Test performance and plot the best results of each function\n",
      "mat = np.random.randn(1000,1000)\n",
      "pmi_performance = {}\n",
      "for func in pmi_functions:\n",
      "    func_performance = %timeit -o func(mat)\n",
      "    pmi_performance[func.__name__] = func_performance.best\n",
      "\n",
      "pd.Series(pmi_performance).plot(kind='bar')"
     ],
     "language": "python",
     "metadata": {},
     "outputs": [
      {
       "output_type": "stream",
       "stream": "stdout",
       "text": [
        "100 loops, best of 3: 10.5 ms per loop\n",
        "10 loops, best of 3: 20.9 ms per loop"
       ]
      },
      {
       "output_type": "stream",
       "stream": "stdout",
       "text": [
        "\n",
        "10 loops, best of 3: 27.8 ms per loop"
       ]
      },
      {
       "output_type": "stream",
       "stream": "stdout",
       "text": [
        "\n",
        "10 loops, best of 3: 46 ms per loop"
       ]
      },
      {
       "output_type": "stream",
       "stream": "stdout",
       "text": [
        "\n",
        "10 loops, best of 3: 51.1 ms per loop"
       ]
      },
      {
       "output_type": "stream",
       "stream": "stdout",
       "text": [
        "\n"
       ]
      },
      {
       "metadata": {},
       "output_type": "pyout",
       "prompt_number": 6,
       "text": [
        "<matplotlib.axes.AxesSubplot at 0x108dbcd50>"
       ]
      },
      {
       "metadata": {},
       "output_type": "display_data",
       "png": "[encoded data removed]",
       "text": [
        "<matplotlib.figure.Figure at 0x107d36bd0>"
       ]
      }
     ],
     "prompt_number": 6
    }
   ],
   "metadata": {}
  }
 ]
}