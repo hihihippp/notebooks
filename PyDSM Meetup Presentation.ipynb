{
 "metadata": {
  "celltoolbar": "Slideshow",
  "name": "",
  "signature": "sha256:940f24304dd373834db042d6e551243eaaf08d713b16dfac47c8066649497eb8"
 },
 "nbformat": 3,
 "nbformat_minor": 0,
 "worksheets": [
  {
   "cells": [
    {
     "cell_type": "code",
     "collapsed": false,
     "input": [
      "%matplotlib inline"
     ],
     "language": "python",
     "metadata": {
      "slideshow": {
       "slide_type": "skip"
      }
     },
     "outputs": [],
     "prompt_number": 13
    },
    {
     "cell_type": "markdown",
     "metadata": {
      "slideshow": {
       "slide_type": "slide"
      }
     },
     "source": [
      "# Practical introduction to distributional semantic models using PyDSM\n",
      "\n",
      "You can find this notebook at [bit.ly/pydsmmeetup](https://bit.ly/pydsmmeetup)."
     ]
    },
    {
     "cell_type": "markdown",
     "metadata": {
      "slideshow": {
       "slide_type": "skip"
      }
     },
     "source": [
      "This presentation will guide you through a short introduction to working with distributional semantic models (DSM) using the Python package [PyDSM](https://github.com/jimmycallin/pydsm). \n",
      "\n",
      "To successfully install the package, you first need the following installed locally:\n",
      "* Python 3.4\n",
      "* Cython\n",
      "* Scipy\n",
      "\n",
      "I recommend using the scientific Python distribution [Anaconda](http://continuum.io/downloads#py34) to ease the process. \n",
      "\n",
      "## Installation\n",
      "\n",
      "When you have installed the requirements, this should do the trick:\n",
      "\n",
      "    git clone https://github.com/jimmycallin/pydsm\n",
      "    cd pydsm\n",
      "    python setup.py install\n",
      "\n",
      "Make sure everything is installed correctly by open your favorite REPL (which should be IPython), and import the library."
     ]
    },
    {
     "cell_type": "code",
     "collapsed": false,
     "input": [
      "import pydsm"
     ],
     "language": "python",
     "metadata": {
      "slideshow": {
       "slide_type": "slide"
      }
     },
     "outputs": [],
     "prompt_number": 2
    },
    {
     "cell_type": "markdown",
     "metadata": {
      "slideshow": {
       "slide_type": "slide"
      }
     },
     "source": [
      "## Outline\n",
      "\n",
      "* Overview of PyDSM\n",
      "* Common DSM operations\n",
      "* First steps towards 100% correct synonym test"
     ]
    },
    {
     "cell_type": "markdown",
     "metadata": {
      "slideshow": {
       "slide_type": "skip"
      }
     },
     "source": [
      "PyDSM is a small Python library made for exploratory analysis of distributional semantic models. So far, two common models are available: `CooccurrenceDSM` and `RandomIndexing`. RandomIndexing is an implemented version of the model we use at Gavagai. For a detailed explanation, I recommend reading [this introduction](http://drop-out.googlecode.com/svn/trunk/01.%20Document/Vunb/RandomIndexing_intro.pdf)."
     ]
    },
    {
     "cell_type": "markdown",
     "metadata": {
      "slideshow": {
       "slide_type": "slide"
      }
     },
     "source": [
      "## Building a common collocation matrix"
     ]
    },
    {
     "cell_type": "markdown",
     "metadata": {
      "slideshow": {
       "slide_type": "skip"
      }
     },
     "source": [
      "`CooccurrenceDSM` requires a set window_size and a corpus. We will use a small preprocessed portion of the [ukWaC ](http://wacky.sslmit.unibo.it/doku.php?id=corpora), which is available [here](https://dl.dropboxusercontent.com/u/3816421/ukwac.50k.clean.txt). Let's build the DSM."
     ]
    },
    {
     "cell_type": "code",
     "collapsed": true,
     "input": [
      "dsm = pydsm.build(model=pydsm.CooccurrenceDSM, \n",
      "                  corpus='ukwac.100k.clean.txt',\n",
      "                  window_size=(2,2),\n",
      "                  min_frequency=50)"
     ],
     "language": "python",
     "metadata": {
      "slideshow": {
       "slide_type": "-"
      }
     },
     "outputs": [
      {
       "output_type": "stream",
       "stream": "stdout",
       "text": [
        "Building matrix from corpus with config: {'min_frequency': 50, 'window_size': (2, 2)}. "
       ]
      },
      {
       "output_type": "stream",
       "stream": "stdout",
       "text": [
        ". "
       ]
      },
      {
       "output_type": "stream",
       "stream": "stdout",
       "text": [
        ". "
       ]
      },
      {
       "output_type": "stream",
       "stream": "stdout",
       "text": [
        ". "
       ]
      },
      {
       "output_type": "stream",
       "stream": "stdout",
       "text": [
        ". "
       ]
      },
      {
       "output_type": "stream",
       "stream": "stdout",
       "text": [
        ". "
       ]
      },
      {
       "output_type": "stream",
       "stream": "stdout",
       "text": [
        ". "
       ]
      },
      {
       "output_type": "stream",
       "stream": "stdout",
       "text": [
        ". "
       ]
      },
      {
       "output_type": "stream",
       "stream": "stdout",
       "text": [
        ". "
       ]
      },
      {
       "output_type": "stream",
       "stream": "stdout",
       "text": [
        ". "
       ]
      },
      {
       "output_type": "stream",
       "stream": "stdout",
       "text": [
        ". "
       ]
      },
      {
       "output_type": "stream",
       "stream": "stdout",
       "text": [
        ". "
       ]
      },
      {
       "output_type": "stream",
       "stream": "stdout",
       "text": [
        ". "
       ]
      },
      {
       "output_type": "stream",
       "stream": "stdout",
       "text": [
        ". "
       ]
      },
      {
       "output_type": "stream",
       "stream": "stdout",
       "text": [
        ". "
       ]
      },
      {
       "output_type": "stream",
       "stream": "stdout",
       "text": [
        ". "
       ]
      },
      {
       "output_type": "stream",
       "stream": "stdout",
       "text": [
        ". "
       ]
      },
      {
       "output_type": "stream",
       "stream": "stdout",
       "text": [
        ". "
       ]
      },
      {
       "output_type": "stream",
       "stream": "stdout",
       "text": [
        ". "
       ]
      },
      {
       "output_type": "stream",
       "stream": "stdout",
       "text": [
        ". "
       ]
      },
      {
       "output_type": "stream",
       "stream": "stdout",
       "text": [
        ". "
       ]
      },
      {
       "output_type": "stream",
       "stream": "stdout",
       "text": [
        ". "
       ]
      },
      {
       "output_type": "stream",
       "stream": "stdout",
       "text": [
        ". "
       ]
      },
      {
       "output_type": "stream",
       "stream": "stdout",
       "text": [
        ". "
       ]
      },
      {
       "output_type": "stream",
       "stream": "stdout",
       "text": [
        ". "
       ]
      },
      {
       "output_type": "stream",
       "stream": "stdout",
       "text": [
        ". "
       ]
      },
      {
       "output_type": "stream",
       "stream": "stdout",
       "text": [
        ". "
       ]
      },
      {
       "output_type": "stream",
       "stream": "stdout",
       "text": [
        ". "
       ]
      },
      {
       "output_type": "stream",
       "stream": "stdout",
       "text": [
        ". "
       ]
      },
      {
       "output_type": "stream",
       "stream": "stdout",
       "text": [
        ". "
       ]
      },
      {
       "output_type": "stream",
       "stream": "stdout",
       "text": [
        ". "
       ]
      },
      {
       "output_type": "stream",
       "stream": "stdout",
       "text": [
        ". "
       ]
      },
      {
       "output_type": "stream",
       "stream": "stdout",
       "text": [
        ". "
       ]
      },
      {
       "output_type": "stream",
       "stream": "stdout",
       "text": [
        ". "
       ]
      },
      {
       "output_type": "stream",
       "stream": "stdout",
       "text": [
        ". "
       ]
      },
      {
       "output_type": "stream",
       "stream": "stdout",
       "text": [
        ". "
       ]
      },
      {
       "output_type": "stream",
       "stream": "stdout",
       "text": [
        ". "
       ]
      },
      {
       "output_type": "stream",
       "stream": "stdout",
       "text": [
        ". "
       ]
      },
      {
       "output_type": "stream",
       "stream": "stdout",
       "text": [
        ". "
       ]
      },
      {
       "output_type": "stream",
       "stream": "stdout",
       "text": [
        ". "
       ]
      },
      {
       "output_type": "stream",
       "stream": "stdout",
       "text": [
        ". "
       ]
      },
      {
       "output_type": "stream",
       "stream": "stdout",
       "text": [
        ". "
       ]
      },
      {
       "output_type": "stream",
       "stream": "stdout",
       "text": [
        ". "
       ]
      },
      {
       "output_type": "stream",
       "stream": "stdout",
       "text": [
        ". "
       ]
      },
      {
       "output_type": "stream",
       "stream": "stdout",
       "text": [
        ". "
       ]
      },
      {
       "output_type": "stream",
       "stream": "stdout",
       "text": [
        ". "
       ]
      },
      {
       "output_type": "stream",
       "stream": "stdout",
       "text": [
        ". "
       ]
      },
      {
       "output_type": "stream",
       "stream": "stdout",
       "text": [
        ". "
       ]
      },
      {
       "output_type": "stream",
       "stream": "stdout",
       "text": [
        ". "
       ]
      },
      {
       "output_type": "stream",
       "stream": "stdout",
       "text": [
        ". "
       ]
      },
      {
       "output_type": "stream",
       "stream": "stdout",
       "text": [
        ". "
       ]
      },
      {
       "output_type": "stream",
       "stream": "stdout",
       "text": [
        ". "
       ]
      },
      {
       "output_type": "stream",
       "stream": "stdout",
       "text": [
        ". "
       ]
      },
      {
       "output_type": "stream",
       "stream": "stdout",
       "text": [
        ". "
       ]
      },
      {
       "output_type": "stream",
       "stream": "stdout",
       "text": [
        ". "
       ]
      },
      {
       "output_type": "stream",
       "stream": "stdout",
       "text": [
        ". "
       ]
      },
      {
       "output_type": "stream",
       "stream": "stdout",
       "text": [
        ". "
       ]
      },
      {
       "output_type": "stream",
       "stream": "stdout",
       "text": [
        ". "
       ]
      },
      {
       "output_type": "stream",
       "stream": "stdout",
       "text": [
        ". "
       ]
      },
      {
       "output_type": "stream",
       "stream": "stdout",
       "text": [
        ". "
       ]
      },
      {
       "output_type": "stream",
       "stream": "stdout",
       "text": [
        ". "
       ]
      },
      {
       "output_type": "stream",
       "stream": "stdout",
       "text": [
        ". "
       ]
      },
      {
       "output_type": "stream",
       "stream": "stdout",
       "text": [
        ". "
       ]
      },
      {
       "output_type": "stream",
       "stream": "stdout",
       "text": [
        ". "
       ]
      },
      {
       "output_type": "stream",
       "stream": "stdout",
       "text": [
        ". "
       ]
      },
      {
       "output_type": "stream",
       "stream": "stdout",
       "text": [
        ". "
       ]
      },
      {
       "output_type": "stream",
       "stream": "stdout",
       "text": [
        ". "
       ]
      },
      {
       "output_type": "stream",
       "stream": "stdout",
       "text": [
        ". "
       ]
      },
      {
       "output_type": "stream",
       "stream": "stdout",
       "text": [
        ". "
       ]
      },
      {
       "output_type": "stream",
       "stream": "stdout",
       "text": [
        ". "
       ]
      },
      {
       "output_type": "stream",
       "stream": "stdout",
       "text": [
        ". "
       ]
      },
      {
       "output_type": "stream",
       "stream": "stdout",
       "text": [
        ". "
       ]
      },
      {
       "output_type": "stream",
       "stream": "stdout",
       "text": [
        ". "
       ]
      },
      {
       "output_type": "stream",
       "stream": "stdout",
       "text": [
        ". "
       ]
      },
      {
       "output_type": "stream",
       "stream": "stdout",
       "text": [
        ". "
       ]
      },
      {
       "output_type": "stream",
       "stream": "stdout",
       "text": [
        ". "
       ]
      },
      {
       "output_type": "stream",
       "stream": "stdout",
       "text": [
        ". "
       ]
      },
      {
       "output_type": "stream",
       "stream": "stdout",
       "text": [
        ". "
       ]
      },
      {
       "output_type": "stream",
       "stream": "stdout",
       "text": [
        ". "
       ]
      },
      {
       "output_type": "stream",
       "stream": "stdout",
       "text": [
        ". "
       ]
      },
      {
       "output_type": "stream",
       "stream": "stdout",
       "text": [
        ". "
       ]
      },
      {
       "output_type": "stream",
       "stream": "stdout",
       "text": [
        ". "
       ]
      },
      {
       "output_type": "stream",
       "stream": "stdout",
       "text": [
        ". "
       ]
      },
      {
       "output_type": "stream",
       "stream": "stdout",
       "text": [
        ". "
       ]
      },
      {
       "output_type": "stream",
       "stream": "stdout",
       "text": [
        ". "
       ]
      },
      {
       "output_type": "stream",
       "stream": "stdout",
       "text": [
        ". "
       ]
      },
      {
       "output_type": "stream",
       "stream": "stdout",
       "text": [
        ". "
       ]
      },
      {
       "output_type": "stream",
       "stream": "stdout",
       "text": [
        ". "
       ]
      },
      {
       "output_type": "stream",
       "stream": "stdout",
       "text": [
        ". "
       ]
      },
      {
       "output_type": "stream",
       "stream": "stdout",
       "text": [
        ". "
       ]
      },
      {
       "output_type": "stream",
       "stream": "stdout",
       "text": [
        ". "
       ]
      },
      {
       "output_type": "stream",
       "stream": "stdout",
       "text": [
        ". "
       ]
      },
      {
       "output_type": "stream",
       "stream": "stdout",
       "text": [
        ". "
       ]
      },
      {
       "output_type": "stream",
       "stream": "stdout",
       "text": [
        ". "
       ]
      },
      {
       "output_type": "stream",
       "stream": "stdout",
       "text": [
        ". "
       ]
      },
      {
       "output_type": "stream",
       "stream": "stdout",
       "text": [
        ". "
       ]
      },
      {
       "output_type": "stream",
       "stream": "stdout",
       "text": [
        ". "
       ]
      },
      {
       "output_type": "stream",
       "stream": "stdout",
       "text": [
        ". "
       ]
      },
      {
       "output_type": "stream",
       "stream": "stdout",
       "text": [
        ". "
       ]
      },
      {
       "output_type": "stream",
       "stream": "stdout",
       "text": [
        ". "
       ]
      },
      {
       "output_type": "stream",
       "stream": "stdout",
       "text": [
        "Total time of build: 1050.10 sec\n",
        "\n"
       ]
      }
     ],
     "prompt_number": 4
    },
    {
     "cell_type": "markdown",
     "metadata": {
      "slideshow": {
       "slide_type": "-"
      }
     },
     "source": [
      "We removed all words having a total occurrence frequency below 50 to keep things clean."
     ]
    },
    {
     "cell_type": "markdown",
     "metadata": {
      "slideshow": {
       "slide_type": "slide"
      }
     },
     "source": [
      "## Common operations\n",
      "\n",
      "* Apply weighting functions, found in `pydsm.weighting`."
     ]
    },
    {
     "cell_type": "code",
     "collapsed": false,
     "input": [
      "ppmi = dsm.apply_weighting(pydsm.weighting.ppmi)"
     ],
     "language": "python",
     "metadata": {
      "slideshow": {
       "slide_type": "-"
      }
     },
     "outputs": [
      {
       "output_type": "stream",
       "stream": "stdout",
       "text": [
        "Total time of apply_weighting: 10.66 sec\n"
       ]
      }
     ],
     "prompt_number": 4
    },
    {
     "cell_type": "markdown",
     "metadata": {
      "slideshow": {
       "slide_type": "-"
      }
     },
     "source": [
      "* Look for nearest neighbors."
     ]
    },
    {
     "cell_type": "code",
     "collapsed": false,
     "input": [
      "ppmi.nearest_neighbors('blue')"
     ],
     "language": "python",
     "metadata": {},
     "outputs": [
      {
       "output_type": "stream",
       "stream": "stdout",
       "text": [
        "Total time of nearest_neighbors: 3.81 sec\n"
       ]
      },
      {
       "metadata": {},
       "output_type": "pyout",
       "prompt_number": 5,
       "text": [
        "[380405, 1]  blue\n",
        "blue         1.00\n",
        "red          0.18\n",
        "yellow       0.18\n",
        "black        0.17\n",
        "white        0.17\n",
        "grey         0.16\n",
        "winged       0.16\n",
        "throated     0.15\n",
        "tailed       0.15\n",
        "green        0.15\n",
        "...          ..."
       ]
      }
     ],
     "prompt_number": 5
    },
    {
     "cell_type": "markdown",
     "metadata": {
      "slideshow": {
       "slide_type": "subslide"
      }
     },
     "source": [
      "Compose distributional vectors. Compositional distributional semantics is a whole field trying to find methods of composing distributional vectors to extract the compositional meaning. This generally doesn't work, and especially not on this little data."
     ]
    },
    {
     "cell_type": "code",
     "collapsed": false,
     "input": [
      "car_brand = dsm.compose('car', 'brand', comp_func=pydsm.composition.multiplicative)\n",
      "car_brand"
     ],
     "language": "python",
     "metadata": {},
     "outputs": [
      {
       "metadata": {},
       "output_type": "pyout",
       "prompt_number": 6,
       "text": [
        "[1, 380405]  iskreno  9ql   bewhildered  componenttype  ranjanbaa  ruprecht  privilaged  ...\n",
        "car brand    0.00     0.00  0.00         0.00           0.00       0.00      0.00        ..."
       ]
      }
     ],
     "prompt_number": 6
    },
    {
     "cell_type": "markdown",
     "metadata": {
      "slideshow": {
       "slide_type": "notes"
      }
     },
     "source": [
      "In a perfect world, its neighbors would contain a lot more politics, rather than a mixture of each word's neighbors. Still, addition of distributional vectors have shown to perform best in many machine learning tasks when using the composed vector as input."
     ]
    },
    {
     "cell_type": "code",
     "collapsed": false,
     "input": [
      "ppmi.nearest_neighbors(car_brand)"
     ],
     "language": "python",
     "metadata": {
      "slideshow": {
       "slide_type": "-"
      }
     },
     "outputs": [
      {
       "output_type": "stream",
       "stream": "stdout",
       "text": [
        "Total time of nearest_neighbors: 3.49 sec\n"
       ]
      },
      {
       "metadata": {},
       "output_type": "pyout",
       "prompt_number": 7,
       "text": [
        "[380405, 1]            car brand\n",
        "cynick                 0.76\n",
        "basinful               0.76\n",
        "polysemantism          0.76\n",
        "photogrph              0.76\n",
        "intellection           0.72\n",
        "deprofessionalization  0.72\n",
        "crosssection           0.72\n",
        "unsuitableness         0.72\n",
        "spandrel               0.70\n",
        "elegent                0.70\n",
        "...                    ..."
       ]
      }
     ],
     "prompt_number": 7
    },
    {
     "cell_type": "markdown",
     "metadata": {
      "slideshow": {
       "slide_type": "slide"
      }
     },
     "source": [
      "## Evaluating the DSM\n",
      "\n",
      "We will evaluate the quality our DSM with a commonly used synonym test, TOEFL. This test contains 80 questions of type \"what is the best synonym for a word given a set of similar words\". Here are a few examples:\n",
      "\n",
      "    hasten: accelerate, accompany, determine, permit\n",
      "    tranquillity: harshness, peacefulness, weariness, happiness\n",
      "    make: print, trade, borrow, earn\n",
      "\n",
      "In the case of our DSM, this corresponds to measuring the distance to all candidates and pick the word that is closest to the problem word."
     ]
    },
    {
     "cell_type": "code",
     "collapsed": false,
     "input": [
      "dsm.evaluate(pydsm.evaluation.toefl)"
     ],
     "language": "python",
     "metadata": {
      "slideshow": {
       "slide_type": "fragment"
      }
     },
     "outputs": [
      {
       "output_type": "stream",
       "stream": "stdout",
       "text": [
        "Evaluation report\n",
        "Accuracy: 0.525\n",
        "Number of words: 80\n",
        "Correct words: ['levied', 'sufficient', 'distribute', 'expeditious', 'flawed', 'perilous', 'peculiarly', 'roots', 'unlikely', 'recognized', 'hailed', 'generally', 'narrow', 'concocted', 'fashion', 'showed', 'costly', 'constantly', 'marketed', 'colloquial', 'issues', 'essentially', 'hind', 'haphazardly', 'annals', 'situated', 'slowly', 'provisions', 'arranged', 'urgently', 'wildly', 'infinite', 'prospective', 'verbally', 'showy', 'grin', 'percentage', 'primarily', 'hastily', 'bigger', 'prominent', 'built']\n",
        "Incorrect words: ['command', 'physician', 'spot', 'debate', 'deftly', 'hue', 'furnish', 'make', 'perseverance', 'prolific', 'easygoing', 'tasks', 'consumed', 'uniform', 'normally', 'sustained', 'discrepancies', 'principal', 'highlight', 'terminated', 'solitary', 'unmatched', 'enormously', 'salutes', 'advent', 'dissipate', 'concisely', 'keen', 'zenith', 'tranquillity', 'figure', 'resolved', 'hasten', 'temperate', 'fanciful', 'often', 'feasible']\n",
        "Unknown words: ['halfheartedly']\n",
        "Unknown correct synonym: []\n",
        "Total time of evaluate: 0.98 sec\n"
       ]
      },
      {
       "metadata": {},
       "output_type": "pyout",
       "prompt_number": 8,
       "text": [
        "0.525"
       ]
      }
     ],
     "prompt_number": 8
    },
    {
     "cell_type": "markdown",
     "metadata": {
      "slideshow": {
       "slide_type": "notes"
      }
     },
     "source": [
      "That's not even close to 100%, and there are several reasons for this. Most notably, simple cooccurrence counting will lead to distributional vectors skewed towards ubiquotous words such as function words. We need to have a weighting function that decrease the importance of commonly occuring words, and increase the importance of words that occur in specific contexts. This is what Positive Pointwise Mutual Information (PPMI) does."
     ]
    },
    {
     "cell_type": "code",
     "collapsed": false,
     "input": [
      "ppmi = dsm.apply_weighting(pydsm.weighting.ppmi)\n",
      "ppmi.visualize(vis_func=pydsm.visualization.heatmap)"
     ],
     "language": "python",
     "metadata": {
      "slideshow": {
       "slide_type": "fragment"
      }
     },
     "outputs": [
      {
       "output_type": "stream",
       "stream": "stdout",
       "text": [
        "Total time of apply_weighting: 46.60 sec\n"
       ]
      },
      {
       "metadata": {},
       "output_type": "display_data",
       "png": "[encoded data removed]",
       "text": [
        "<matplotlib.figure.Figure at 0x1098d9d68>"
       ]
      }
     ],
     "prompt_number": 14
    },
    {
     "cell_type": "code",
     "collapsed": false,
     "input": [
      "dsm.visualize(vis_func=pydsm.visualization.heatmap)"
     ],
     "language": "python",
     "metadata": {},
     "outputs": [
      {
       "metadata": {},
       "output_type": "display_data",
       "png": "[encoded data removed]",
       "text": [
        "<matplotlib.figure.Figure at 0x106eba8d0>"
       ]
      }
     ],
     "prompt_number": 15
    },
    {
     "cell_type": "markdown",
     "metadata": {},
     "source": [
      "Visualizing them as heatmaps, we can see how the vector values are more evenly distributed after applying PPMI.\n",
      "\n",
      "See Bullinaria & Levy \"[Extracting Semantic Representations from Word Co-occurrence Statistics: A Computational Study](https://www.cs.bham.ac.uk/~jxb/PUBS/BRM.pdf)\" (2007) for details."
     ]
    },
    {
     "cell_type": "code",
     "collapsed": false,
     "input": [
      "ppmi.evaluate(pydsm.evaluation.toefl)"
     ],
     "language": "python",
     "metadata": {
      "slideshow": {
       "slide_type": "slide"
      }
     },
     "outputs": [
      {
       "output_type": "stream",
       "stream": "stdout",
       "text": [
        "Evaluation report\n",
        "Accuracy: 0.825\n",
        "Number of words: 80\n",
        "Correct words: ['levied', 'sufficient', 'distribute', 'expeditious', 'spot', 'flawed', 'perilous', 'peculiarly', 'debate', 'deftly', 'hue', 'roots', 'unlikely', 'recognized', 'make', 'hailed', 'prolific', 'easygoing', 'generally', 'narrow', 'concocted', 'fashion', 'consumed', 'showed', 'costly', 'uniform', 'normally', 'sustained', 'discrepancies', 'constantly', 'marketed', 'principal', 'highlight', 'colloquial', 'issues', 'essentially', 'hind', 'haphazardly', 'annals', 'situated', 'enormously', 'salutes', 'slowly', 'arranged', 'advent', 'dissipate', 'urgently', 'infinite', 'prospective', 'verbally', 'showy', 'grin', 'percentage', 'keen', 'zenith', 'primarily', 'tranquillity', 'hastily', 'bigger', 'prominent', 'resolved', 'hasten', 'fanciful', 'often', 'built', 'feasible']\n",
        "Incorrect words: ['command', 'physician', 'furnish', 'perseverance', 'tasks', 'terminated', 'solitary', 'unmatched', 'provisions', 'wildly', 'concisely', 'figure', 'temperate']\n",
        "Unknown words: ['halfheartedly']\n",
        "Unknown correct synonym: []\n",
        "Total time of evaluate: 1.64 sec\n"
       ]
      },
      {
       "metadata": {},
       "output_type": "pyout",
       "prompt_number": 11,
       "text": [
        "0.825"
       ]
      }
     ],
     "prompt_number": 11
    },
    {
     "cell_type": "markdown",
     "metadata": {
      "slideshow": {
       "slide_type": "notes"
      }
     },
     "source": [
      "While 82.5% is a significant improvement, we still have a long way to go. B&L (2012) [1] succeeded in getting 100% on the TOEFL test. We will be using some of their techniques to improve our own score, but since our corpus is about a 50th of the size of theirs we won't be getting that much improvements. Still, the technique is interesting."
     ]
    },
    {
     "cell_type": "markdown",
     "metadata": {
      "slideshow": {
       "slide_type": "slide"
      }
     },
     "source": [
      "## Singular Value Decomposition\n",
      "\n",
      "Singular Value Decomposition (SVD) has been known for quite a while to improve the quality, and is a part of the LSA model. Traditionally, the first couple of hundreds or thousands principal components have been used based on the belief that the rest mostly contains additional noise. This has indeed increased the performance. What B&L found out was that by also removing the first 100-200 principal components, the result increased even further. \n",
      "\n",
      "[1] Bullinaria, J.A. & Levy, J.P. [Extracting Semantic Representations from Word Co-occurrence Statistics: Stop-lists, Stemming and SVD](http://www.cs.bham.ac.uk/~jxb/PUBS/BRM2.pdf). (2012)"
     ]
    },
    {
     "cell_type": "code",
     "collapsed": false,
     "input": [
      "# Sort the matrix columns according to the collapsed column sum in descending order. \n",
      "# This is basically equivalent to sort according to word frequency.\n",
      "dsm.matrix = dsm.matrix.sort(key='sum', axis=1, ascending=False).sort(key='sum', axis=0, ascending=False)\n",
      "# Pick out the 50k first columns to ease the SVD.\n",
      "dsm.matrix = dsm.matrix[:50000,:50000]\n",
      "# Perform PPMI on this again\n",
      "ppmi = dsm.apply_weighting(pydsm.weighting.ppmi)"
     ],
     "language": "python",
     "metadata": {
      "slideshow": {
       "slide_type": "-"
      }
     },
     "outputs": [
      {
       "output_type": "stream",
       "stream": "stdout",
       "text": [
        "Total time of apply_weighting: 6.88 sec\n"
       ]
      }
     ],
     "prompt_number": 14
    },
    {
     "cell_type": "code",
     "collapsed": false,
     "input": [
      "# Perform SVD picking out the 3000 largest principal components. This is slow (hours) and requires a lot of memory.\n",
      "u, s, v_t = ppmi.matrix.svd(k=3000)\n",
      "dim_reduced = u.multiply(s)\n",
      "dim_reduced"
     ],
     "language": "python",
     "metadata": {},
     "outputs": [
      {
       "metadata": {},
       "output_type": "pyout",
       "prompt_number": 7,
       "text": [
        "[53000, 3000]  2999   2998    2997   2996    2995    2994   2993    ...\n",
        "the            37.79  -13.88  3.74   -25.55  -2.25   2.54   -5.42   ...\n",
        "of             43.12  -20.53  0.07   -31.56  4.85    5.38   4.02    ...\n",
        "and            84.14  -23.96  14.96  -77.18  -11.15  6.06   -11.65  ...\n",
        "to             25.51  -12.69  3.79   -15.56  -3.79   17.18  -14.11  ...\n",
        "a              44.72  -21.55  6.81   -24.97  -11.62  -7.06  -10.99  ...\n",
        "in             41.98  -4.56   -4.61  -32.90  -3.87   12.83  -7.43   ...\n",
        "is             31.47  -14.21  4.61   -24.45  -4.49   14.61  -8.62   ...\n",
        "for            37.66  -19.14  -1.60  -27.96  9.65    6.24   -5.81   ...\n",
        "that           23.66  -9.99   6.60   -16.04  -3.16   17.98  -9.37   ...\n",
        "on             33.41  -7.51   -0.72  -26.93  -8.44   3.53   -5.98   ...\n",
        "...            ...    ...     ...    ...     ...     ...    ...     ..."
       ]
      }
     ],
     "prompt_number": 7
    },
    {
     "cell_type": "markdown",
     "metadata": {},
     "source": [
      "Because of the nature of SVD and its matrix factorization (both matrices are orthogonal, thus `v_t` is nothing more than a rotation of the vector space) and the fact that our distance measure is the cosine distance, we can use `u * s` directly and discard `v_t`. See the paper for details."
     ]
    },
    {
     "cell_type": "code",
     "collapsed": false,
     "input": [
      "pydsm.evaluation.toefl(dim_reduced)"
     ],
     "language": "python",
     "metadata": {
      "slideshow": {
       "slide_type": "slide"
      }
     },
     "outputs": [
      {
       "output_type": "stream",
       "stream": "stdout",
       "text": [
        "Evaluation report\n",
        "Accuracy: 0.8\n",
        "Number of words: 80\n",
        "Correct words: ['fashion', 'make', 'provisions', 'showed', 'peculiarly', 'feasible', 'issues', 'costly', 'often', 'keen', 'resolved', 'levied', 'advent', 'salutes', 'terminated', 'prominent', 'primarily', 'slowly', 'roots', 'sustained', 'debate', 'bigger', 'expeditious', 'discrepancies', 'percentage', 'prolific', 'normally', 'distribute', 'tasks', 'built', 'unlikely', 'solitary', 'annals', 'generally', 'perilous', 'urgently', 'infinite', 'essentially', 'dissipate', 'prospective', 'highlight', 'situated', 'constantly', 'recognized', 'deftly', 'marketed', 'spot', 'concisely', 'hind', 'wildly', 'colloquial', 'consumed', 'arranged', 'concocted', 'hue', 'sufficient', 'hastily', 'enormously', 'flawed', 'principal', 'hailed', 'showy', 'grin', 'verbally']\n",
        "Incorrect words: ['temperate', 'narrow', 'physician', 'perseverance', 'furnish', 'command', 'hasten', 'fanciful', 'zenith', 'figure', 'uniform']\n",
        "Unknown words: ['halfheartedly', 'easygoing', 'haphazardly']\n",
        "Unknown correct synonym: ['unmatched', 'tranquillity']\n"
       ]
      },
      {
       "metadata": {},
       "output_type": "pyout",
       "prompt_number": 10,
       "text": [
        "0.8"
       ]
      }
     ],
     "prompt_number": 10
    },
    {
     "cell_type": "markdown",
     "metadata": {},
     "source": [
      "Running the evaluation only on the SVD matrix actually worsens the result compared to the original PPMI matrix. This is expected (see paper for why). But what happens next when we remove the largest principal components is interesting."
     ]
    },
    {
     "cell_type": "code",
     "collapsed": false,
     "input": [
      "# Ignoring the largest principal components\n",
      "pydsm.evaluation.toefl(dim_reduced[:,200:])"
     ],
     "language": "python",
     "metadata": {
      "slideshow": {
       "slide_type": "slide"
      }
     },
     "outputs": [
      {
       "output_type": "stream",
       "stream": "stdout",
       "text": [
        "Evaluation report\n",
        "Accuracy: 0.8625\n",
        "Number of words: 80\n",
        "Correct words: ['fashion', 'make', 'provisions', 'showed', 'feasible', 'issues', 'costly', 'often', 'keen', 'resolved', 'levied', 'advent', 'salutes', 'terminated', 'prominent', 'primarily', 'slowly', 'roots', 'sustained', 'debate', 'bigger', 'expeditious', 'discrepancies', 'percentage', 'temperate', 'prolific', 'normally', 'distribute', 'tasks', 'built', 'unlikely', 'solitary', 'physician', 'generally', 'perilous', 'urgently', 'infinite', 'perseverance', 'essentially', 'dissipate', 'command', 'prospective', 'highlight', 'situated', 'constantly', 'recognized', 'deftly', 'marketed', 'hasten', 'spot', 'concisely', 'hind', 'wildly', 'colloquial', 'consumed', 'arranged', 'fanciful', 'concocted', 'hue', 'sufficient', 'hastily', 'enormously', 'flawed', 'figure', 'uniform', 'principal', 'hailed', 'grin', 'verbally']\n",
        "Incorrect words: ['peculiarly', 'narrow', 'annals', 'furnish', 'zenith', 'showy']\n",
        "Unknown words: ['halfheartedly', 'easygoing', 'haphazardly']\n",
        "Unknown correct synonym: ['unmatched', 'tranquillity']\n"
       ]
      },
      {
       "metadata": {},
       "output_type": "pyout",
       "prompt_number": 16,
       "text": [
        "0.8625"
       ]
      }
     ],
     "prompt_number": 16
    },
    {
     "cell_type": "markdown",
     "metadata": {
      "slideshow": {
       "slide_type": "notes"
      }
     },
     "source": [
      "Why removal of the vectors that contain the directions of the largest variances improves the result is not entirely clear. When B&L adds extra random noise in addition to the model, it is clearly shown that removing the first principal components also removes most of the added noise. The previous assumption that noise is mainly gathereed in the smallest principal components is simply not true.\n",
      "\n",
      "And this is as far as we get. Because of some parameter choices to ease the calculation and our smaller corpus, we don't quite reach the same score as B&L. Feel free to try to get all the way to the top. And if you do, I would be very interested to hear about it!"
     ]
    }
   ],
   "metadata": {}
  }
 ]
}